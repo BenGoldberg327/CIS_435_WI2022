{
 "cells": [
  {
   "cell_type": "code",
   "execution_count": 3,
   "metadata": {},
   "outputs": [],
   "source": [
    "#Import Python libraries \n",
    "\n",
    "import pandas as pd\n",
    "import numpy as np\n",
    "import matplotlib.pyplot as plt\n",
    "%matplotlib inline\n",
    "import seaborn as sns\n",
    "from sklearn.neighbors import KNeighborsClassifier\n",
    "from sklearn.tree import DecisionTreeClassifier\n",
    "from sklearn.linear_model import LogisticRegression\n",
    "from sklearn.ensemble import RandomForestClassifier\n",
    "from sklearn import metrics\n",
    "from sklearn.model_selection import train_test_split"
   ]
  },
  {
   "cell_type": "code",
   "execution_count": 5,
   "metadata": {},
   "outputs": [
    {
     "name": "stdout",
     "output_type": "stream",
     "text": [
      "Index(['PassengerId', 'Survived', 'Pclass', 'Name', 'Sex', 'Gender', 'Age',\n",
      "       'SibSp', 'Parch', 'Ticket', 'Fare', 'Cabin', 'Embarked',\n",
      "       'Embark_Numeric'],\n",
      "      dtype='object')\n",
      "dimension of data: (661, 14)\n",
      "<class 'pandas.core.frame.DataFrame'>\n",
      "RangeIndex: 661 entries, 0 to 660\n",
      "Data columns (total 14 columns):\n",
      " #   Column          Non-Null Count  Dtype  \n",
      "---  ------          --------------  -----  \n",
      " 0   PassengerId     661 non-null    int64  \n",
      " 1   Survived        661 non-null    int64  \n",
      " 2   Pclass          661 non-null    int64  \n",
      " 3   Name            661 non-null    object \n",
      " 4   Sex             661 non-null    object \n",
      " 5   Gender          661 non-null    int64  \n",
      " 6   Age             661 non-null    float64\n",
      " 7   SibSp           661 non-null    int64  \n",
      " 8   Parch           661 non-null    int64  \n",
      " 9   Ticket          661 non-null    int64  \n",
      " 10  Fare            661 non-null    float64\n",
      " 11  Cabin           150 non-null    object \n",
      " 12  Embarked        661 non-null    object \n",
      " 13  Embark_Numeric  661 non-null    int64  \n",
      "dtypes: float64(2), int64(8), object(4)\n",
      "memory usage: 72.4+ KB\n"
     ]
    },
    {
     "data": {
      "text/html": [
       "<div>\n",
       "<style scoped>\n",
       "    .dataframe tbody tr th:only-of-type {\n",
       "        vertical-align: middle;\n",
       "    }\n",
       "\n",
       "    .dataframe tbody tr th {\n",
       "        vertical-align: top;\n",
       "    }\n",
       "\n",
       "    .dataframe thead th {\n",
       "        text-align: right;\n",
       "    }\n",
       "</style>\n",
       "<table border=\"1\" class=\"dataframe\">\n",
       "  <thead>\n",
       "    <tr style=\"text-align: right;\">\n",
       "      <th></th>\n",
       "      <th>PassengerId</th>\n",
       "      <th>Survived</th>\n",
       "      <th>Pclass</th>\n",
       "      <th>Gender</th>\n",
       "      <th>Age</th>\n",
       "      <th>SibSp</th>\n",
       "      <th>Parch</th>\n",
       "      <th>Ticket</th>\n",
       "      <th>Fare</th>\n",
       "      <th>Embark_Numeric</th>\n",
       "    </tr>\n",
       "  </thead>\n",
       "  <tbody>\n",
       "    <tr>\n",
       "      <th>count</th>\n",
       "      <td>661.000000</td>\n",
       "      <td>661.000000</td>\n",
       "      <td>661.000000</td>\n",
       "      <td>661.000000</td>\n",
       "      <td>661.000000</td>\n",
       "      <td>661.000000</td>\n",
       "      <td>661.000000</td>\n",
       "      <td>6.610000e+02</td>\n",
       "      <td>661.000000</td>\n",
       "      <td>661.000000</td>\n",
       "    </tr>\n",
       "    <tr>\n",
       "      <th>mean</th>\n",
       "      <td>456.968230</td>\n",
       "      <td>0.384266</td>\n",
       "      <td>2.347958</td>\n",
       "      <td>0.638427</td>\n",
       "      <td>29.554720</td>\n",
       "      <td>0.470499</td>\n",
       "      <td>0.364599</td>\n",
       "      <td>2.603185e+05</td>\n",
       "      <td>27.130899</td>\n",
       "      <td>0.835098</td>\n",
       "    </tr>\n",
       "    <tr>\n",
       "      <th>std</th>\n",
       "      <td>258.086004</td>\n",
       "      <td>0.486790</td>\n",
       "      <td>0.829357</td>\n",
       "      <td>0.480820</td>\n",
       "      <td>13.079273</td>\n",
       "      <td>0.883069</td>\n",
       "      <td>0.793087</td>\n",
       "      <td>4.716093e+05</td>\n",
       "      <td>35.681613</td>\n",
       "      <td>0.371373</td>\n",
       "    </tr>\n",
       "    <tr>\n",
       "      <th>min</th>\n",
       "      <td>4.000000</td>\n",
       "      <td>0.000000</td>\n",
       "      <td>1.000000</td>\n",
       "      <td>0.000000</td>\n",
       "      <td>0.420000</td>\n",
       "      <td>0.000000</td>\n",
       "      <td>0.000000</td>\n",
       "      <td>6.930000e+02</td>\n",
       "      <td>0.000000</td>\n",
       "      <td>0.000000</td>\n",
       "    </tr>\n",
       "    <tr>\n",
       "      <th>25%</th>\n",
       "      <td>239.000000</td>\n",
       "      <td>0.000000</td>\n",
       "      <td>2.000000</td>\n",
       "      <td>0.000000</td>\n",
       "      <td>22.000000</td>\n",
       "      <td>0.000000</td>\n",
       "      <td>0.000000</td>\n",
       "      <td>1.999600e+04</td>\n",
       "      <td>7.895800</td>\n",
       "      <td>1.000000</td>\n",
       "    </tr>\n",
       "    <tr>\n",
       "      <th>50%</th>\n",
       "      <td>460.000000</td>\n",
       "      <td>0.000000</td>\n",
       "      <td>3.000000</td>\n",
       "      <td>1.000000</td>\n",
       "      <td>30.000000</td>\n",
       "      <td>0.000000</td>\n",
       "      <td>0.000000</td>\n",
       "      <td>2.361710e+05</td>\n",
       "      <td>13.000000</td>\n",
       "      <td>1.000000</td>\n",
       "    </tr>\n",
       "    <tr>\n",
       "      <th>75%</th>\n",
       "      <td>687.000000</td>\n",
       "      <td>1.000000</td>\n",
       "      <td>3.000000</td>\n",
       "      <td>1.000000</td>\n",
       "      <td>34.000000</td>\n",
       "      <td>1.000000</td>\n",
       "      <td>0.000000</td>\n",
       "      <td>3.477430e+05</td>\n",
       "      <td>29.000000</td>\n",
       "      <td>1.000000</td>\n",
       "    </tr>\n",
       "    <tr>\n",
       "      <th>max</th>\n",
       "      <td>891.000000</td>\n",
       "      <td>1.000000</td>\n",
       "      <td>3.000000</td>\n",
       "      <td>1.000000</td>\n",
       "      <td>80.000000</td>\n",
       "      <td>4.000000</td>\n",
       "      <td>5.000000</td>\n",
       "      <td>3.101298e+06</td>\n",
       "      <td>263.000000</td>\n",
       "      <td>1.000000</td>\n",
       "    </tr>\n",
       "  </tbody>\n",
       "</table>\n",
       "</div>"
      ],
      "text/plain": [
       "       PassengerId    Survived      Pclass      Gender         Age  \\\n",
       "count   661.000000  661.000000  661.000000  661.000000  661.000000   \n",
       "mean    456.968230    0.384266    2.347958    0.638427   29.554720   \n",
       "std     258.086004    0.486790    0.829357    0.480820   13.079273   \n",
       "min       4.000000    0.000000    1.000000    0.000000    0.420000   \n",
       "25%     239.000000    0.000000    2.000000    0.000000   22.000000   \n",
       "50%     460.000000    0.000000    3.000000    1.000000   30.000000   \n",
       "75%     687.000000    1.000000    3.000000    1.000000   34.000000   \n",
       "max     891.000000    1.000000    3.000000    1.000000   80.000000   \n",
       "\n",
       "            SibSp       Parch        Ticket        Fare  Embark_Numeric  \n",
       "count  661.000000  661.000000  6.610000e+02  661.000000      661.000000  \n",
       "mean     0.470499    0.364599  2.603185e+05   27.130899        0.835098  \n",
       "std      0.883069    0.793087  4.716093e+05   35.681613        0.371373  \n",
       "min      0.000000    0.000000  6.930000e+02    0.000000        0.000000  \n",
       "25%      0.000000    0.000000  1.999600e+04    7.895800        1.000000  \n",
       "50%      0.000000    0.000000  2.361710e+05   13.000000        1.000000  \n",
       "75%      1.000000    0.000000  3.477430e+05   29.000000        1.000000  \n",
       "max      4.000000    5.000000  3.101298e+06  263.000000        1.000000  "
      ]
     },
     "execution_count": 5,
     "metadata": {},
     "output_type": "execute_result"
    }
   ],
   "source": [
    "#Import and visualize dataset\n",
    "\n",
    "data = pd.read_csv('train.csv')\n",
    "print(data.columns)\n",
    "print(\"dimension of data: {}\".format(data.shape))\n",
    "data.info()\n",
    "data.head()\n",
    "\n",
    "X = data[['Pclass', 'Age', 'SibSp', 'Parch', 'Ticket', 'Fare', 'Embark_Numeric']]\n",
    "y = data['Survived']\n",
    "\n",
    "data.describe()"
   ]
  },
  {
   "cell_type": "code",
   "execution_count": 6,
   "metadata": {},
   "outputs": [
    {
     "data": {
      "text/plain": [
       "PassengerId       False\n",
       "Survived          False\n",
       "Pclass            False\n",
       "Name              False\n",
       "Sex               False\n",
       "Gender            False\n",
       "Age               False\n",
       "SibSp             False\n",
       "Parch             False\n",
       "Ticket            False\n",
       "Fare              False\n",
       "Cabin              True\n",
       "Embarked          False\n",
       "Embark_Numeric    False\n",
       "dtype: bool"
      ]
     },
     "execution_count": 6,
     "metadata": {},
     "output_type": "execute_result"
    }
   ],
   "source": [
    "data.isnull().any()"
   ]
  },
  {
   "cell_type": "code",
   "execution_count": 7,
   "metadata": {},
   "outputs": [],
   "source": [
    "data = data.fillna(method='ffill')"
   ]
  },
  {
   "cell_type": "markdown",
   "metadata": {},
   "source": [
    "# k-Nearest Neighbors\n"
   ]
  },
  {
   "cell_type": "code",
   "execution_count": 8,
   "metadata": {},
   "outputs": [],
   "source": [
    "# Split data into training/test set\n",
    "X_train, X_test, y_train, y_test = train_test_split(X, y, random_state=1)"
   ]
  },
  {
   "cell_type": "code",
   "execution_count": 10,
   "metadata": {},
   "outputs": [
    {
     "name": "stdout",
     "output_type": "stream",
     "text": [
      "Accuracy of K-NN classifier on training set for n = 4 : 0.7859\n",
      "Accuracy of K-NN classifier on test set for n=4 : 0.7169\n",
      "[[88 20]\n",
      " [28 30]]\n",
      "              precision    recall  f1-score   support\n",
      "\n",
      "           0       0.76      0.81      0.79       108\n",
      "           1       0.60      0.52      0.56        58\n",
      "\n",
      "    accuracy                           0.71       166\n",
      "   macro avg       0.68      0.67      0.67       166\n",
      "weighted avg       0.70      0.71      0.71       166\n",
      "\n"
     ]
    },
    {
     "data": {
      "image/png": "[encoded data removed]",
      "text/plain": [
       "<Figure size 432x288 with 1 Axes>"
      ]
     },
     "metadata": {
      "needs_background": "light"
     },
     "output_type": "display_data"
    },
    {
     "data": {
      "image/png": "[encoded data removed]",
      "text/plain": [
       "<Figure size 432x288 with 1 Axes>"
      ]
     },
     "metadata": {
      "needs_background": "light"
     },
     "output_type": "display_data"
    },
    {
     "name": "stdout",
     "output_type": "stream",
     "text": [
      "AUC: 0.712\n"
     ]
    }
   ],
   "source": [
    "# Run KNN Classification Model\n",
    "\n",
    "knn = KNeighborsClassifier(n_neighbors=4)\n",
    "knn.fit(X_train, y_train)\n",
    "\n",
    "print('Accuracy of K-NN classifier on training set for n = 4 : {:.4f}'.format(knn.score(X_train, y_train)))\n",
    "print('Accuracy of K-NN classifier on test set for n=4 : {:.4f}'.format(knn.score(X_test, y_test)))\n",
    "\n",
    "# Finding Optimal value of n for knn classifier\n",
    "\n",
    "training_accuracy = []\n",
    "test_accuracy = []\n",
    "# Iterate value of n from 1 to 20\n",
    "neighbors_settings = range(1, 20)\n",
    "\n",
    "for n_neighbors in neighbors_settings:\n",
    "    # build the model\n",
    "    knn = KNeighborsClassifier(n_neighbors=n_neighbors)\n",
    "    knn.fit(X_train, y_train)\n",
    "    # record training set accuracy\n",
    "    training_accuracy.append(knn.score(X_train, y_train))\n",
    "    # record test set accuracy\n",
    "    test_accuracy.append(knn.score(X_test, y_test))\n",
    "\n",
    "plt.plot(neighbors_settings, training_accuracy, label=\"training accuracy\")\n",
    "plt.plot(neighbors_settings, test_accuracy, label=\"test accuracy\")\n",
    "plt.ylabel(\"Accuracy\")\n",
    "plt.xlabel(\"n_neighbors\")\n",
    "plt.legend()\n",
    "\n",
    "\n",
    "\n",
    "#Confusion Matrix\n",
    "y_pred = knn.predict(X_test)\n",
    "from sklearn.metrics import confusion_matrix\n",
    "confusion_matrix = confusion_matrix(y_test, y_pred)\n",
    "print(confusion_matrix)\n",
    "\n",
    "# Precision/Recall\n",
    "from sklearn.metrics import classification_report\n",
    "print(classification_report(y_test, y_pred))\n",
    "\n",
    "from sklearn.metrics import roc_auc_score\n",
    "from sklearn.metrics import roc_curve\n",
    "knn_roc_auc = roc_auc_score(y_test, knn.predict(X_test))\n",
    "fpr, tpr, thresholds = roc_curve(y_test, knn.predict_proba(X_test)[:,1])\n",
    "plt.figure()\n",
    "plt.plot(fpr, tpr, label='knn' % knn_roc_auc)\n",
    "plt.plot([0, 1], [0, 1],'r--')\n",
    "plt.xlim([0.0, 1.0])\n",
    "plt.ylim([0.0, 1.05])\n",
    "plt.xlabel('False Positive Rate')\n",
    "plt.ylabel('True Positive Rate')\n",
    "plt.title('Receiver operating characteristic')\n",
    "plt.legend(loc=\"lower right\")\n",
    "plt.savefig('KNN_ROC')\n",
    "plt.show()\n",
    "\n",
    "# calculate AUC\n",
    "\n",
    "print('AUC: %.3f' % metrics.auc(fpr, tpr))\n",
    "\n",
    "\n"
   ]
  },
  {
   "cell_type": "markdown",
   "metadata": {},
   "source": [
    "### Logistic Regression\n",
    "Logistic regression is one of the most common classification algorithms."
   ]
  },
  {
   "cell_type": "code",
   "execution_count": 35,
   "metadata": {},
   "outputs": [
    {
     "name": "stdout",
     "output_type": "stream",
     "text": [
      "Training set accuracy: 0.6889\n",
      "Test set accuracy: 0.7108\n",
      "Feature importances:\n",
      "[[-2.80452078e-03]\n",
      " [-2.87354114e-02]\n",
      " [-5.09715047e-05]\n",
      " [ 1.73993167e-04]\n",
      " [-4.74882316e-07]\n",
      " [ 2.16955086e-02]\n",
      " [-8.12872573e-04]]\n"
     ]
    }
   ],
   "source": [
    "logreg = LogisticRegression().fit(X_train, y_train)\n",
    "print(\"Training set accuracy: {:.4f}\".format(logreg.score(X_train, y_train)))\n",
    "print(\"Test set accuracy: {:.4f}\".format(logreg.score(X_test, y_test)))\n",
    "\n",
    "\n",
    "logreg.coef_.T\n",
    "\n",
    "print(\"Feature importances:\\n{}\".format(logreg.coef_.T))"
   ]
  },
  {
   "cell_type": "code",
   "execution_count": 84,
   "metadata": {},
   "outputs": [
    {
     "name": "stdout",
     "output_type": "stream",
     "text": [
      "[[117   8]\n",
      " [ 33  34]]\n",
      "              precision    recall  f1-score   support\n",
      "\n",
      "           0       0.78      0.94      0.85       125\n",
      "           1       0.81      0.51      0.62        67\n",
      "\n",
      "   micro avg       0.79      0.79      0.79       192\n",
      "   macro avg       0.79      0.72      0.74       192\n",
      "weighted avg       0.79      0.79      0.77       192\n",
      "\n"
     ]
    },
    {
     "data": {
      "image/png": "[encoded data removed]",
      "text/plain": [
       "<Figure size 432x288 with 1 Axes>"
      ]
     },
     "metadata": {
      "needs_background": "light"
     },
     "output_type": "display_data"
    },
    {
     "name": "stdout",
     "output_type": "stream",
     "text": [
      "AUC: 0.863\n"
     ]
    }
   ],
   "source": [
    "#Confusion Matrix\n",
    "y_pred = logreg.predict(X_test)\n",
    "from sklearn.metrics import confusion_matrix\n",
    "confusion_matrix = confusion_matrix(y_test, y_pred)\n",
    "print(confusion_matrix)\n",
    "\n",
    "# Precision/Recall\n",
    "from sklearn.metrics import classification_report\n",
    "print(classification_report(y_test, y_pred))\n",
    "\n",
    "from sklearn.metrics import roc_auc_score\n",
    "from sklearn.metrics import roc_curve\n",
    "logit_roc_auc = roc_auc_score(y_test, logreg.predict(X_test))\n",
    "fpr, tpr, thresholds = roc_curve(y_test, logreg.predict_proba(X_test)[:,1])\n",
    "plt.figure()\n",
    "plt.plot(fpr, tpr, label='Logistic Regression (area = %0.2f)' % logit_roc_auc)\n",
    "plt.plot([0, 1], [0, 1],'r--')\n",
    "plt.xlim([0.0, 1.0])\n",
    "plt.ylim([0.0, 1.05])\n",
    "plt.xlabel('False Positive Rate')\n",
    "plt.ylabel('True Positive Rate')\n",
    "plt.title('Receiver operating characteristic')\n",
    "plt.legend(loc=\"lower right\")\n",
    "plt.savefig('Log_ROC')\n",
    "plt.show()\n",
    "\n",
    "# calculate AUC\n",
    "\n",
    "print('AUC: %.3f' % metrics.auc(fpr, tpr))\n"
   ]
  },
  {
   "cell_type": "code",
   "execution_count": 37,
   "metadata": {},
   "outputs": [
    {
     "name": "stdout",
     "output_type": "stream",
     "text": [
      "Accuracy on training set: 0.6747\n",
      "Accuracy on test set: 0.7169\n",
      "[[105   3]\n",
      " [ 44  14]]\n",
      "              precision    recall  f1-score   support\n",
      "\n",
      "           0       0.70      0.97      0.82       108\n",
      "           1       0.82      0.24      0.37        58\n",
      "\n",
      "    accuracy                           0.72       166\n",
      "   macro avg       0.76      0.61      0.60       166\n",
      "weighted avg       0.75      0.72      0.66       166\n",
      "\n"
     ]
    },
    {
     "data": {
      "image/png": "[encoded data removed]",
      "text/plain": [
       "<Figure size 432x288 with 1 Axes>"
      ]
     },
     "metadata": {
      "needs_background": "light"
     },
     "output_type": "display_data"
    },
    {
     "name": "stdout",
     "output_type": "stream",
     "text": [
      "AUC: 0.752\n"
     ]
    }
   ],
   "source": [
    "#Naive Bayes \n",
    "\n",
    "from sklearn.naive_bayes import GaussianNB\n",
    "gnb = GaussianNB()\n",
    "gnb.fit(X_train, y_train)\n",
    "\n",
    "print(\"Accuracy on training set: {:.4f}\".format(gnb.score(X_train, y_train)))\n",
    "print(\"Accuracy on test set: {:.4f}\".format(gnb.score(X_test, y_test)))\n",
    "\n",
    "\n",
    "#Confusion Matrix\n",
    "y_pred = gnb.predict(X_test)\n",
    "from sklearn.metrics import confusion_matrix\n",
    "confusion_matrix = confusion_matrix(y_test, y_pred)\n",
    "print(confusion_matrix)\n",
    "\n",
    "# Precision/Recall\n",
    "from sklearn.metrics import classification_report\n",
    "print(classification_report(y_test, y_pred))\n",
    "\n",
    "from sklearn.metrics import roc_auc_score\n",
    "from sklearn.metrics import roc_curve\n",
    "GNB_roc_auc = roc_auc_score(y_test, gnb.predict(X_test))\n",
    "fpr, tpr, thresholds = roc_curve(y_test, gnb.predict_proba(X_test)[:,1])\n",
    "plt.figure()\n",
    "plt.plot(fpr, tpr, label='GNB' % GNB_roc_auc)\n",
    "plt.plot([0, 1], [0, 1],'r--')\n",
    "plt.xlim([0.0, 1.0])\n",
    "plt.ylim([0.0, 1.05])\n",
    "plt.xlabel('False Positive Rate')\n",
    "plt.ylabel('True Positive Rate')\n",
    "plt.title('Receiver operating characteristic')\n",
    "plt.legend(loc=\"lower right\")\n",
    "plt.savefig('GNB_ROC')\n",
    "plt.show()\n",
    "\n",
    "# calculate AUC\n",
    "\n",
    "print('AUC: %.3f' % metrics.auc(fpr, tpr))\n",
    "\n",
    "\n"
   ]
  },
  {
   "cell_type": "markdown",
   "metadata": {},
   "source": [
    "### Decision Tree"
   ]
  },
  {
   "cell_type": "code",
   "execution_count": 38,
   "metadata": {},
   "outputs": [
    {
     "name": "stdout",
     "output_type": "stream",
     "text": [
      "Accuracy on training set: 0.7515\n",
      "Accuracy on test set: 0.7530\n",
      "Feature importances:\n",
      "[0.         0.23194443 0.03498555 0.037661   0.2560985  0.43931052\n",
      " 0.        ]\n",
      "[[103   5]\n",
      " [ 36  22]]\n",
      "              precision    recall  f1-score   support\n",
      "\n",
      "           0       0.74      0.95      0.83       108\n",
      "           1       0.81      0.38      0.52        58\n",
      "\n",
      "    accuracy                           0.75       166\n",
      "   macro avg       0.78      0.67      0.68       166\n",
      "weighted avg       0.77      0.75      0.72       166\n",
      "\n"
     ]
    },
    {
     "data": {
      "image/png": "[encoded data removed]",
      "text/plain": [
       "<Figure size 432x288 with 1 Axes>"
      ]
     },
     "metadata": {
      "needs_background": "light"
     },
     "output_type": "display_data"
    },
    {
     "name": "stdout",
     "output_type": "stream",
     "text": [
      "AUC: 0.754\n"
     ]
    }
   ],
   "source": [
    "tree = DecisionTreeClassifier(max_depth=4,random_state=0)\n",
    "tree.fit(X_train, y_train)\n",
    "print(\"Accuracy on training set: {:.4f}\".format(tree.score(X_train, y_train)))\n",
    "print(\"Accuracy on test set: {:.4f}\".format(tree.score(X_test, y_test)))\n",
    "\n",
    "#Feature importance rates how important each feature is for the decision a tree makes. It is a number between 0 and 1 for each feature, where 0 means “not used at all” and 1 means “perfectly predicts the target.” \n",
    "#The feature importances always sum to 1\n",
    "\n",
    "print(\"Feature importances:\\n{}\".format(tree.feature_importances_))\n",
    "\n",
    "#Confusion Matrix\n",
    "y_pred = tree.predict(X_test)\n",
    "from sklearn.metrics import confusion_matrix\n",
    "confusion_matrix = confusion_matrix(y_test, y_pred)\n",
    "print(confusion_matrix)\n",
    "\n",
    "# Precision/Recall\n",
    "from sklearn.metrics import classification_report\n",
    "print(classification_report(y_test, y_pred))\n",
    "\n",
    "from sklearn.metrics import roc_auc_score\n",
    "from sklearn.metrics import roc_curve\n",
    "DT_roc_auc = roc_auc_score(y_test, tree.predict(X_test))\n",
    "fpr, tpr, thresholds = roc_curve(y_test, tree.predict_proba(X_test)[:,1])\n",
    "plt.figure()\n",
    "plt.plot(fpr, tpr, label='Decision Tree' % DT_roc_auc)\n",
    "plt.plot([0, 1], [0, 1],'r--')\n",
    "plt.xlim([0.0, 1.0])\n",
    "plt.ylim([0.0, 1.05])\n",
    "plt.xlabel('False Positive Rate')\n",
    "plt.ylabel('True Positive Rate')\n",
    "plt.title('Receiver operating characteristic')\n",
    "plt.legend(loc=\"lower right\")\n",
    "plt.savefig('DT_ROC')\n",
    "plt.show()\n",
    "\n",
    "# calculate AUC\n",
    "\n",
    "print('AUC: %.3f' % metrics.auc(fpr, tpr))\n"
   ]
  },
  {
   "cell_type": "markdown",
   "metadata": {},
   "source": [
    "### Support Vector Machine"
   ]
  },
  {
   "cell_type": "code",
   "execution_count": 41,
   "metadata": {},
   "outputs": [
    {
     "name": "stdout",
     "output_type": "stream",
     "text": [
      "Accuracy on training set: 0.73\n",
      "Accuracy on test set: 0.80\n",
      "Feature importances:\n",
      "[0.02681364 0.1648455  0.03830663 0.03734561 0.31367565 0.41901297\n",
      " 0.        ]\n",
      "[[101   7]\n",
      " [ 27  31]]\n",
      "              precision    recall  f1-score   support\n",
      "\n",
      "           0       0.79      0.94      0.86       108\n",
      "           1       0.82      0.53      0.65        58\n",
      "\n",
      "    accuracy                           0.80       166\n",
      "   macro avg       0.80      0.73      0.75       166\n",
      "weighted avg       0.80      0.80      0.78       166\n",
      "\n"
     ]
    },
    {
     "data": {
      "image/png": "[encoded data removed]",
      "text/plain": [
       "<Figure size 432x288 with 1 Axes>"
      ]
     },
     "metadata": {
      "needs_background": "light"
     },
     "output_type": "display_data"
    },
    {
     "name": "stdout",
     "output_type": "stream",
     "text": [
      "AUC: 0.779\n"
     ]
    }
   ],
   "source": [
    "# Support Vector Machine\n",
    "\n",
    "from sklearn.svm import SVC\n",
    "from sklearn.preprocessing import MinMaxScaler\n",
    "\n",
    "# SVM requires all the features to vary on a similar scale. We will need to rescale our data that all the features are approximately on the same scale\n",
    "scaler = MinMaxScaler()\n",
    "X_train_scaled = scaler.fit_transform(X_train)\n",
    "X_test_scaled = scaler.fit_transform(X_test)\n",
    "\n",
    "svc = SVC(probability=True)\n",
    "svc.fit(X_train_scaled, y_train)\n",
    "\n",
    "print(\"Accuracy on training set: {:.2f}\".format(svc.score(X_train_scaled, y_train)))\n",
    "print(\"Accuracy on test set: {:.2f}\".format(svc.score(X_test_scaled, y_test)))\n",
    "print(\"Feature importances:\\n{}\".format(gb.feature_importances_))\n",
    "\n",
    "#Confusion Matrix\n",
    "y_pred = svc.predict(X_test_scaled)\n",
    "from sklearn.metrics import confusion_matrix\n",
    "confusion_matrix = confusion_matrix(y_test, y_pred)\n",
    "print(confusion_matrix)\n",
    "\n",
    "# Precision/Recall\n",
    "from sklearn.metrics import classification_report\n",
    "print(classification_report(y_test, y_pred))\n",
    "\n",
    "\n",
    "\n",
    "from sklearn.metrics import roc_auc_score\n",
    "from sklearn.metrics import roc_curve\n",
    "SVM_roc_auc = roc_auc_score(y_test, svc.predict(X_test_scaled))\n",
    "fpr, tpr, thresholds = roc_curve(y_test, svc.predict_proba(X_test_scaled)[:,1])\n",
    "plt.figure()\n",
    "plt.plot(fpr, tpr, label='SVM' % SVM_roc_auc)\n",
    "plt.plot([0, 1], [0, 1],'r--')\n",
    "plt.xlim([0.0, 1.0])\n",
    "plt.ylim([0.0, 1.05])\n",
    "plt.xlabel('False Positive Rate')\n",
    "plt.ylabel('True Positive Rate')\n",
    "plt.title('Receiver operating characteristic')\n",
    "plt.legend(loc=\"lower right\")\n",
    "plt.savefig('RF_ROC')\n",
    "plt.show()\n",
    "\n",
    "# calculate AUC\n",
    "\n",
    "print('AUC: %.3f' % metrics.auc(fpr, tpr))\n"
   ]
  }
 ],
 "metadata": {
  "kernelspec": {
   "display_name": "Python 3",
   "language": "python",
   "name": "python3"
  },
  "language_info": {
   "codemirror_mode": {
    "name": "ipython",
    "version": 3
   },
   "file_extension": ".py",
   "mimetype": "text/x-python",
   "name": "python",
   "nbconvert_exporter": "python",
   "pygments_lexer": "ipython3",
   "version": "3.8.8"
  }
 },
 "nbformat": 4,
 "nbformat_minor": 2
}
